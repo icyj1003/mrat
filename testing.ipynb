{
 "cells": [
  {
   "cell_type": "code",
   "execution_count": 2,
   "id": "28e6ee98",
   "metadata": {},
   "outputs": [],
   "source": [
    "import numpy as np"
   ]
  },
  {
   "cell_type": "code",
   "execution_count": 3,
   "id": "0ece9e3e",
   "metadata": {},
   "outputs": [],
   "source": [
    "def zipf(num_items, alpha) -> np.ndarray:\n",
    "    \"\"\"\n",
    "    Generate a Zipf distribution for the given number of items and alpha parameter.\n",
    "    Args:\n",
    "        num_items (int): Number of items.\n",
    "        alpha (float): Zipf distribution parameter.\n",
    "    Returns:\n",
    "        np.ndarray: Zipf distribution probabilities.\n",
    "    \"\"\"\n",
    "    z = np.arange(1, num_items + 1)\n",
    "    zipf_dist = 1 / (z**alpha)\n",
    "    zipf_dist /= np.sum(zipf_dist)\n",
    "    return zipf_dist"
   ]
  },
  {
   "cell_type": "code",
   "execution_count": null,
   "id": "99deec1a",
   "metadata": {},
   "outputs": [],
   "source": [
    "class CacheEnv:\n",
    "    def __init__(self, num_items: int, num_edges: int, alpha: float, edge_capacity: int = 2024, num_vehicles: int = 40):\n",
    "        \"\"\"\n",
    "        Initialize the Cache Environment.\n",
    "        Args:\n",
    "            num_items (int): Number of items in the environment.\n",
    "            num_edges (int): Number of edges in the environment.\n",
    "            alpha (float): Zipf distribution parameter.\n",
    "        \"\"\"\n",
    "        self.num_items = num_items\n",
    "        self.num_edges = num_edges\n",
    "        self.num_vehicles = num_vehicles\n",
    "        self.alpha = alpha\n",
    "        self.edge_capacity = edge_capacity\n",
    "        self.cache = np.zeros((num_edges, num_items), dtype=np.int8)\n",
    "        sample_request = np.random.choice(\n",
    "            np.arange(num_items), \n",
    "            size=self.num_vehicles, \n",
    "        )\n",
    "        request_frequencies =\n",
    "        self.remaining_capacity = np.full(num_edges, edge_capacity, dtype=np.int32)\n",
    "\n",
    "env = CacheEnv(num_items=1000, num_edges=5, alpha=1.0)"
   ]
  },
  {
   "cell_type": "code",
   "execution_count": 15,
   "id": "d87dc187",
   "metadata": {},
   "outputs": [
    {
     "data": {
      "text/plain": [
       "array([ 6,  2, 50, 19,  7, 73, 23, 56, 87, 57, 98, 41, 61, 11, 97,  9,  3,\n",
       "       49, 34, 96, 27, 20, 76, 41, 14, 22, 14, 52, 10, 78, 80, 51, 73, 97,\n",
       "       80, 77, 27, 41, 18, 99])"
      ]
     },
     "execution_count": 15,
     "metadata": {},
     "output_type": "execute_result"
    }
   ],
   "source": [
    "sample_request = np.random.choice(\n",
    "    np.arange(100),\n",
    "    size=40,\n",
    ")\n",
    "sample_request"
   ]
  },
  {
   "cell_type": "code",
   "execution_count": 21,
   "id": "67f68f89",
   "metadata": {},
   "outputs": [
    {
     "name": "stdout",
     "output_type": "stream",
     "text": [
      "Item 2 requested 1 times.\n",
      "Item 3 requested 1 times.\n",
      "Item 6 requested 1 times.\n",
      "Item 7 requested 1 times.\n",
      "Item 9 requested 1 times.\n",
      "Item 10 requested 1 times.\n",
      "Item 11 requested 1 times.\n",
      "Item 14 requested 2 times.\n",
      "Item 18 requested 1 times.\n",
      "Item 19 requested 1 times.\n",
      "Item 20 requested 1 times.\n",
      "Item 22 requested 1 times.\n",
      "Item 23 requested 1 times.\n",
      "Item 27 requested 2 times.\n",
      "Item 34 requested 1 times.\n",
      "Item 41 requested 3 times.\n",
      "Item 49 requested 1 times.\n",
      "Item 50 requested 1 times.\n",
      "Item 51 requested 1 times.\n",
      "Item 52 requested 1 times.\n",
      "Item 56 requested 1 times.\n",
      "Item 57 requested 1 times.\n",
      "Item 61 requested 1 times.\n",
      "Item 73 requested 2 times.\n",
      "Item 76 requested 1 times.\n",
      "Item 77 requested 1 times.\n",
      "Item 78 requested 1 times.\n",
      "Item 80 requested 2 times.\n",
      "Item 87 requested 1 times.\n",
      "Item 96 requested 1 times.\n",
      "Item 97 requested 2 times.\n",
      "Item 98 requested 1 times.\n",
      "Item 99 requested 1 times.\n"
     ]
    }
   ],
   "source": [
    "frequencies = np.bincount(\n",
    "    sample_request, \n",
    "    minlength=100\n",
    ")\n",
    "for idx, value in enumerate(frequencies):\n",
    "    if value > 0:\n",
    "        print(f\"Item {idx} requested {value} times.\")"
   ]
  },
  {
   "cell_type": "code",
   "execution_count": 32,
   "id": "37bc8fc8",
   "metadata": {},
   "outputs": [
    {
     "data": {
      "text/plain": [
       "array([41, 97, 73, 80, 27, 14, 96, 87, 77, 98, 78, 34, 56,  6,  7,  3, 11,\n",
       "       76,  9, 18, 52, 49, 22, 20, 19, 23,  2, 99, 61, 57, 50, 51, 10, 88,\n",
       "       95, 94, 64, 65, 66, 67, 68, 69, 70, 71, 72, 74, 75, 79, 84, 83, 82,\n",
       "       81, 92, 93, 90, 91, 86, 85, 89, 55, 48, 58, 59, 60, 53, 54, 62, 63,\n",
       "       32, 33, 35, 36, 38, 37, 39, 40, 46, 42, 43, 44, 47, 45, 29, 31, 16,\n",
       "       17, 21, 30, 28, 26, 25, 24,  8, 15, 13, 12,  4,  5,  1,  0])"
      ]
     },
     "execution_count": 32,
     "metadata": {},
     "output_type": "execute_result"
    }
   ],
   "source": [
    "ranking = np.argsort(frequencies)[::-1]\n",
    "ranking"
   ]
  },
  {
   "cell_type": "code",
   "execution_count": 29,
   "id": "da6bbd7a",
   "metadata": {},
   "outputs": [
    {
     "data": {
      "text/plain": [
       "array([0.19277564, 0.09638782, 0.06425855, 0.04819391, 0.03855513,\n",
       "       0.03212927, 0.02753938, 0.02409695, 0.02141952, 0.01927756,\n",
       "       0.01752506, 0.01606464, 0.0148289 , 0.01376969, 0.01285171,\n",
       "       0.01204848, 0.01133974, 0.01070976, 0.01014609, 0.00963878,\n",
       "       0.00917979, 0.00876253, 0.00838155, 0.00803232, 0.00771103,\n",
       "       0.00741445, 0.00713984, 0.00688484, 0.00664744, 0.00642585,\n",
       "       0.00621857, 0.00602424, 0.00584169, 0.00566987, 0.00550788,\n",
       "       0.00535488, 0.00521015, 0.00507304, 0.00494297, 0.00481939,\n",
       "       0.00470184, 0.0045899 , 0.00448315, 0.00438126, 0.0042839 ,\n",
       "       0.00419077, 0.00410161, 0.00401616, 0.0039342 , 0.00385551,\n",
       "       0.00377991, 0.00370722, 0.00363728, 0.00356992, 0.00350501,\n",
       "       0.00344242, 0.00338203, 0.00332372, 0.00326738, 0.00321293,\n",
       "       0.00316026, 0.00310928, 0.00305993, 0.00301212, 0.00296578,\n",
       "       0.00292084, 0.00287725, 0.00283494, 0.00279385, 0.00275394,\n",
       "       0.00271515, 0.00267744, 0.00264076, 0.00260508, 0.00257034,\n",
       "       0.00253652, 0.00250358, 0.00247148, 0.0024402 , 0.0024097 ,\n",
       "       0.00237995, 0.00235092, 0.0023226 , 0.00229495, 0.00226795,\n",
       "       0.00224158, 0.00221581, 0.00219063, 0.00216602, 0.00214195,\n",
       "       0.00211841, 0.00209539, 0.00207286, 0.0020508 , 0.00202922,\n",
       "       0.00200808, 0.00198738, 0.0019671 , 0.00194723, 0.00192776])"
      ]
     },
     "execution_count": 29,
     "metadata": {},
     "output_type": "execute_result"
    }
   ],
   "source": [
    "zipf_dist = zipf(100, 1.0)\n",
    "zipf_dist"
   ]
  },
  {
   "cell_type": "code",
   "execution_count": 34,
   "id": "db320d89",
   "metadata": {},
   "outputs": [
    {
     "data": {
      "text/plain": [
       "array([0.00192776, 0.00194723, 0.00713984, 0.01204848, 0.00198738,\n",
       "       0.0019671 , 0.01376969, 0.01285171, 0.00207286, 0.01014609,\n",
       "       0.00584169, 0.01133974, 0.00200808, 0.00202922, 0.03212927,\n",
       "       0.0020508 , 0.00226795, 0.00224158, 0.00963878, 0.00771103,\n",
       "       0.00803232, 0.00221581, 0.00838155, 0.00741445, 0.00209539,\n",
       "       0.00211841, 0.00214195, 0.03855513, 0.00216602, 0.0023226 ,\n",
       "       0.00219063, 0.00229495, 0.00279385, 0.00275394, 0.01606464,\n",
       "       0.00271515, 0.00267744, 0.00260508, 0.00264076, 0.00257034,\n",
       "       0.00253652, 0.19277564, 0.00247148, 0.0024402 , 0.0024097 ,\n",
       "       0.00235092, 0.00250358, 0.00237995, 0.00316026, 0.00876253,\n",
       "       0.00621857, 0.00602424, 0.00917979, 0.00296578, 0.00292084,\n",
       "       0.00321293, 0.0148289 , 0.00642585, 0.00310928, 0.00305993,\n",
       "       0.00301212, 0.00664744, 0.00287725, 0.00283494, 0.00521015,\n",
       "       0.00507304, 0.00494297, 0.00481939, 0.00470184, 0.0045899 ,\n",
       "       0.00448315, 0.00438126, 0.0042839 , 0.06425855, 0.00419077,\n",
       "       0.00410161, 0.01070976, 0.02141952, 0.01752506, 0.00401616,\n",
       "       0.04819391, 0.00370722, 0.00377991, 0.00385551, 0.0039342 ,\n",
       "       0.00332372, 0.00338203, 0.02409695, 0.00566987, 0.00326738,\n",
       "       0.00350501, 0.00344242, 0.00363728, 0.00356992, 0.00535488,\n",
       "       0.00550788, 0.02753938, 0.09638782, 0.01927756, 0.00688484],\n",
       "      dtype=float32)"
      ]
     },
     "execution_count": 34,
     "metadata": {},
     "output_type": "execute_result"
    }
   ],
   "source": [
    "request_probs = np.zeros(100, dtype=np.float32)\n",
    "request_probs[ranking] = zipf_dist\n",
    "request_probs"
   ]
  },
  {
   "cell_type": "markdown",
   "id": "aa57cc1a",
   "metadata": {},
   "source": [
    "Env - Current `(t)`\n",
    "- init dummy last frequency (server known): `f(t-1)`\n",
    "- init dummy cache of (t-1): `c(t-1)`\n",
    "- use cache policy to update the cache (server known): `c(t)`\n",
    "- compare `c(t)` with `c(t-1)` compute the cache replace cost: `cost_1(t)`\n",
    "- init request probs from frequency (server unknown): `pop(t)`\n",
    "- generate request from probs (server known): `req(t)`\n",
    "- perform delivery in the small timescale to get the avg delivery delay and cost: `delay(t)`, `cost_2(t)`\n",
    "- compute new frequency from request (server known): `f(t)`\n",
    "\n",
    "State `s(t)`\n",
    "- `f(t-1)`\n",
    "- `c(t-1)`\n",
    "- `pop(t)`\n",
    "- `req(t)`\n",
    "- `delay(t)`\n",
    "- `cost_2(t)`"
   ]
  },
  {
   "cell_type": "markdown",
   "id": "1916b02f",
   "metadata": {},
   "source": []
  }
 ],
 "metadata": {
  "kernelspec": {
   "display_name": "drl",
   "language": "python",
   "name": "python3"
  },
  "language_info": {
   "codemirror_mode": {
    "name": "ipython",
    "version": 3
   },
   "file_extension": ".py",
   "mimetype": "text/x-python",
   "name": "python",
   "nbconvert_exporter": "python",
   "pygments_lexer": "ipython3",
   "version": "3.10.16"
  }
 },
 "nbformat": 4,
 "nbformat_minor": 5
}
