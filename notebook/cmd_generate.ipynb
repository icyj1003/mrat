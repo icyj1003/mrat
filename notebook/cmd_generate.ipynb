{
 "cells": [
  {
   "cell_type": "markdown",
   "id": "cc61ec42",
   "metadata": {},
   "source": [
    "### Weightings"
   ]
  },
  {
   "cell_type": "code",
   "execution_count": 2,
   "id": "16074f03",
   "metadata": {},
   "outputs": [
    {
     "name": "stdout",
     "output_type": "stream",
     "text": [
      "python run.py --cost_weight 0 --delay_weight 1 --name weighting_0_1\n",
      "python run.py --cost_weight 1 --delay_weight 0 --name weighting_1_0\n",
      "python run.py --cost_weight 0.5 --delay_weight 0.5 --name weighting_0.5_0.5\n",
      "python run.py --cost_weight 0.3 --delay_weight 0.7 --name weighting_0.3_0.7\n",
      "python run.py --cost_weight 0.7 --delay_weight 0.3 --name weighting_0.7_0.3\n"
     ]
    }
   ],
   "source": [
    "trade_off = [\n",
    "    (0, 1),\n",
    "    (1, 0),\n",
    "    (0.5, 0.5),\n",
    "    (0.3, 0.7),\n",
    "    (0.7, 0.3),\n",
    "]\n",
    "\n",
    "for pair in trade_off:\n",
    "    cmd = f\"python run.py --cost_weight {pair[0]} --delay_weight {pair[1]} --name weighting_{pair[0]}_{pair[1]}\"\n",
    "    print(cmd)"
   ]
  },
  {
   "cell_type": "markdown",
   "id": "158bf1ad",
   "metadata": {},
   "source": [
    "### Caching"
   ]
  },
  {
   "cell_type": "code",
   "execution_count": 3,
   "id": "704db465",
   "metadata": {},
   "outputs": [
    {
     "name": "stdout",
     "output_type": "stream",
     "text": [
      "python run.py --cache_policy random --name cache_random\n",
      "python run.py --cache_policy none --name cache_none\n",
      "python run.py --cache_policy heuristic --name cache_heuristic\n",
      "python run.py --cache_policy heuristic_no_deadline --name cache_heuristic_no_deadline\n",
      "python run.py --cache_policy heuristic_no_popularity --name cache_heuristic_no_popularity\n",
      "python run.py --cache_policy heuristic_no_size --name cache_heuristic_no_size\n",
      "python run.py --cache_policy heuristic_no_deadline_popularity --name cache_heuristic_no_deadline_popularity\n",
      "python run.py --cache_policy heuristic_no_deadline_size --name cache_heuristic_no_deadline_size\n",
      "python run.py --cache_policy heuristic_no_popularity_size --name cache_heuristic_no_popularity_size\n"
     ]
    }
   ],
   "source": [
    "cache_policy = [\n",
    "    \"random\",\n",
    "    \"none\",\n",
    "    \"heuristic\",\n",
    "    \"heuristic_no_deadline\",\n",
    "    \"heuristic_no_popularity\",\n",
    "    \"heuristic_no_size\",\n",
    "    \"heuristic_no_deadline_popularity\",\n",
    "    \"heuristic_no_deadline_size\",\n",
    "    \"heuristic_no_popularity_size\",\n",
    "]\n",
    "\n",
    "\n",
    "for policy in cache_policy:\n",
    "    cmd = f\"python run.py --cache_policy {policy} --name cache_{policy}\"\n",
    "    print(cmd)"
   ]
  },
  {
   "cell_type": "markdown",
   "id": "5444c993",
   "metadata": {},
   "source": [
    "### Delivery"
   ]
  },
  {
   "cell_type": "code",
   "execution_count": 4,
   "id": "70a616f9",
   "metadata": {},
   "outputs": [
    {
     "name": "stdout",
     "output_type": "stream",
     "text": [
      "python run.py --delivery_policy random --name delivery_random --training_episodes 0 --evaluation_episodes 100\n",
      "python run.py --delivery_policy all --name delivery_all --training_episodes 0 --evaluation_episodes 100\n"
     ]
    }
   ],
   "source": [
    "delivery_policy = [\"random\", \"all\"]\n",
    "\n",
    "for policy in delivery_policy:\n",
    "    cmd = f\"python run.py --delivery_policy {policy} --name delivery_{policy} --training_episodes 0 --evaluation_episodes 100\"\n",
    "    print(cmd)"
   ]
  },
  {
   "cell_type": "markdown",
   "id": "56aa371b",
   "metadata": {},
   "source": [
    "### Vehicle Scale"
   ]
  },
  {
   "cell_type": "code",
   "execution_count": 5,
   "id": "39dfef50",
   "metadata": {},
   "outputs": [
    {
     "name": "stdout",
     "output_type": "stream",
     "text": [
      "python run.py --num_vehicles 10 --name vehicle_scale_10\n",
      "python run.py --num_vehicles 20 --name vehicle_scale_20\n",
      "python run.py --num_vehicles 30 --name vehicle_scale_30\n",
      "python run.py --num_vehicles 40 --name vehicle_scale_40\n",
      "python run.py --num_vehicles 50 --name vehicle_scale_50\n"
     ]
    }
   ],
   "source": [
    "num_vehicles_list = [10, 20, 30, 40, 50]\n",
    "\n",
    "for num_vehicles in num_vehicles_list:\n",
    "    cmd = f\"python run.py --num_vehicles {num_vehicles} --name vehicle_scale_{num_vehicles}\"\n",
    "    print(cmd)"
   ]
  },
  {
   "cell_type": "markdown",
   "id": "6acf9608",
   "metadata": {},
   "source": [
    "### RAT removal"
   ]
  },
  {
   "cell_type": "code",
   "execution_count": 8,
   "id": "72ec27ac",
   "metadata": {},
   "outputs": [
    {
     "name": "stdout",
     "output_type": "stream",
     "text": [
      "python run.py --remove_v2v --name remove_v2v\n",
      "python run.py --remove_wifi --name remove_wifi\n",
      "python run.py --remove_pc5 --name remove_pc5\n"
     ]
    }
   ],
   "source": [
    "cmd = [\n",
    "    \"python run.py --remove_v2v --name remove_v2v\",\n",
    "    \"python run.py --remove_wifi --name remove_wifi\",\n",
    "    \"python run.py --remove_pc5 --name remove_pc5\",\n",
    "]\n",
    "\n",
    "for command in cmd:\n",
    "    print(command)"
   ]
  }
 ],
 "metadata": {
  "kernelspec": {
   "display_name": "drl",
   "language": "python",
   "name": "python3"
  },
  "language_info": {
   "codemirror_mode": {
    "name": "ipython",
    "version": 3
   },
   "file_extension": ".py",
   "mimetype": "text/x-python",
   "name": "python",
   "nbconvert_exporter": "python",
   "pygments_lexer": "ipython3",
   "version": "3.10.16"
  }
 },
 "nbformat": 4,
 "nbformat_minor": 5
}
